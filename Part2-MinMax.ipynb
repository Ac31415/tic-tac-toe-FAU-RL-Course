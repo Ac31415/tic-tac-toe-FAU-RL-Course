{
 "cells": [
  {
   "cell_type": "markdown",
   "metadata": {},
   "source": [
    "# A perfect Tic Tac Tow player, using the Min-Max algorithm #\n",
    "In this Notebook, we will create a computer player using the Min-Max algorithm. The player will be able to play Tic Tac Toe perfectly. That is, the player will always play the best move in a given situation. This will give us a good bench mark to pit the other players against.\n",
    "\n",
    "Let's start again by importing and defining a few utility functions and classes and make sure it all works:"
   ]
  },
  {
   "cell_type": "code",
   "execution_count": 16,
   "metadata": {},
   "outputs": [
    {
     "data": {
      "text/html": [
       "\n",
       "    <style>\n",
       "    .rendered_html table, .rendered_html th, .rendered_html tr, .rendered_html td {\n",
       "      border: 1px  black solid !important;\n",
       "      color: black !important;\n",
       "    }\n",
       "    </style>\n",
       "    <table border=\"1\"><tr><td>x</td><td>o</td><td>x</td></tr><tr><td>x</td><td>o</td><td>&ensp;</td></tr><tr><td>x</td><td>&ensp;</td><td>o</td></tr></table>"
      ],
      "text/plain": [
       "<IPython.core.display.HTML object>"
      ]
     },
     "metadata": {},
     "output_type": "display_data"
    },
    {
     "name": "stdout",
     "output_type": "stream",
     "text": [
      "Cross won\n"
     ]
    }
   ],
   "source": [
    "from IPython.display import HTML, display\n",
    "from tic_tac_toe.Board import Board, GameResult, CROSS, NAUGHT, EMPTY\n",
    "from util import print_board, play_game\n",
    "from tic_tac_toe.RandomPlayer import RandomPlayer\n",
    "\n",
    "board = Board()\n",
    "player1 = RandomPlayer()\n",
    "player2 = RandomPlayer()\n",
    "\n",
    "result = play_game(board, player1, player2)\n",
    "print_board(board)\n",
    "\n",
    "if result == GameResult.CROSS_WIN:\n",
    "    print(\"Cross won\")\n",
    "elif result == GameResult.NAUGHT_WIN:\n",
    "    print(\"Naught won\")\n",
    "else:\n",
    "    print(\"Draw\")"
   ]
  },
  {
   "cell_type": "markdown",
   "metadata": {},
   "source": [
    "## The Min-Max algorithm\n",
    "So, what is this Min-Max algorithm that we want to implement?\n",
    "\n",
    "The long answer can be found [here](https://en.wikipedia.org/wiki/Minimax). We won't go into that much detail here and just look at the general idea:\n",
    "\n",
    "Given a board state we find the best move by simulating all possible continuation and chose the best one for us. The best one for us the one with the best outcome if we always make the move that is best for us (*Maximizes* the game values for us) and if our opponent always makes the move that is best for them (and thus worst for us - *Minimizing* the game value for us). This is also where the algorithm gets its name from.\n",
    "\n",
    "Let's look at an exmaple. Given the followin board position, NAUGHT to move next:"
   ]
  },
  {
   "cell_type": "code",
   "execution_count": 17,
   "metadata": {},
   "outputs": [
    {
     "data": {
      "text/html": [
       "\n",
       "    <style>\n",
       "    .rendered_html table, .rendered_html th, .rendered_html tr, .rendered_html td {\n",
       "      border: 1px  black solid !important;\n",
       "      color: black !important;\n",
       "    }\n",
       "    </style>\n",
       "    <table border=\"1\"><tr><td>x</td><td>&ensp;</td><td>x</td></tr><tr><td>o</td><td>o</td><td>x</td></tr><tr><td>&ensp;</td><td>&ensp;</td><td>o</td></tr></table>"
      ],
      "text/plain": [
       "<IPython.core.display.HTML object>"
      ]
     },
     "metadata": {},
     "output_type": "display_data"
    }
   ],
   "source": [
    "example = Board([CROSS  , EMPTY  , CROSS,\n",
    "                 NAUGHT , NAUGHT , CROSS,\n",
    "                 EMPTY  , EMPTY  , NAUGHT])\n",
    "print_board(example)"
   ]
  },
  {
   "cell_type": "code",
   "execution_count": 33,
   "metadata": {},
   "outputs": [
    {
     "data": {
      "text/html": [
       "\n",
       "    <style>\n",
       "    .rendered_html table, .rendered_html th, .rendered_html tr, .rendered_html td {\n",
       "      border: 1px  black solid !important;\n",
       "      color: black !important;\n",
       "    }\n",
       "    </style>\n",
       "    <table border=\"1\"><tr><td>x</td><td>&ensp;</td><td>x</td></tr><tr><td>o</td><td>o</td><td>x</td></tr><tr><td>&ensp;</td><td>o</td><td>o</td></tr></table>"
      ],
      "text/plain": [
       "<IPython.core.display.HTML object>"
      ]
     },
     "metadata": {},
     "output_type": "display_data"
    }
   ],
   "source": [
    "example = Board([CROSS  , EMPTY  , CROSS,\n",
    "                 NAUGHT , NAUGHT , CROSS,\n",
    "                 EMPTY  , NAUGHT  , NAUGHT])\n",
    "print_board(example)"
   ]
  },
  {
   "cell_type": "markdown",
   "metadata": {},
   "source": [
    "The following continuations are possible:\n",
    "![title](./TicTacToe-Min-Max Example.png)"
   ]
  },
  {
   "cell_type": "code",
   "execution_count": null,
   "metadata": {
    "collapsed": true
   },
   "outputs": [],
   "source": []
  }
 ],
 "metadata": {
  "kernelspec": {
   "display_name": "Python 3",
   "language": "python",
   "name": "python3"
  },
  "language_info": {
   "codemirror_mode": {
    "name": "ipython",
    "version": 3
   },
   "file_extension": ".py",
   "mimetype": "text/x-python",
   "name": "python",
   "nbconvert_exporter": "python",
   "pygments_lexer": "ipython3",
   "version": "3.6.1"
  }
 },
 "nbformat": 4,
 "nbformat_minor": 2
}
