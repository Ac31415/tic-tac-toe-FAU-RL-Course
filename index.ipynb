{
 "cells": [
  {
   "cell_type": "markdown",
   "metadata": {},
   "source": [
    "# Teaching a computer to play Tic Tac Toe\n",
    "\n",
    "\n",
    "\n",
    "## From classic algorithms to Reinforcement learning with Neural Networks\n",
    "\n",
    "In this series of articles an Jupyter notebooks we will explore a number of different approaches to teaching a computer how to play the famous board game [Tic Tac Toe](https://medium.com/r/?url=https%3A%2F%2Fen.wikipedia.org%2Fwiki%2FTic-tac-toe).\n",
    "\n",
    "\n",
    "Most people will be familiar with [Tic Tac Toe](https://medium.com/r/?url=https%3A%2F%2Fen.wikipedia.org%2Fwiki%2FTic-tac-toe)\n",
    "    and more than likely you will have played it at some stage of their life. \n",
    "\n",
    "The game is rather simple. With respect to its rules as well as its strategy. In fact, it can be played by\n",
    "    young children and a Tic Tac Toe board can often be found at playgrounds:</p>\n",
    "\n",
    "![Title](./Images/tic-tac-toe-355090_640.jpg)\n",
    "\n",
    "[Source](https://pixabay.com/en/tic-tac-toe-game-tick-tack-toe-355090)\n",
    "\n",
    "\n",
    "If you have played Tic Tac Toe a couple of times you will have quickly realized that it is quite easy to master.\n",
    "    You will most likely also have discovered that when both players play good moves, the game will always end in a\n",
    "    draw.\n",
    "\n",
    "In the following, we will use the example of\n",
    "    Tic Tac Toe to look at various approaches which can be used to teach or train a computer to play this game. Not because Tic Tac Toe is\n",
    "    particularly challanging, but because it gives us a conistent, easy to understand target.\n",
    "\n",
    "\n",
    "We will look at\n",
    "    the classic Min Max algorithm, a tabular reinforcement learning approach\n",
    "    as well as a couple of Neural Network based reinforcement learning approaches:\n",
    "    \n",
    "* [Part 1 - Computer Tic Tac Toe Basics](Part 1 - Computer Tic Tac Toe Basics.html)\n",
    "* [Part 2 - The Min Max Algorithm](Part 2 - The Min Max Algorithm.html) \n",
    "* [Part 3 - Tabular Q-Learning](Part 3 - Tabular Q-Learning.html)\n",
    "* [Part 4 - Neural Network Q-Learning](Part 4 - Neural Network Q-Learning.html)\n",
    "* [Part 5 - Q Network review and becoming less greedy](Part 5 - Q Network review and becoming less greedy.html)\n",
    "* [Part 6 - Double Duelling Q Network with Experience Replay](Part 6 - Double Duelling Q Network with Experience Replay.html)\n",
    "* [Part 7 - This is deep. In a convoluted way](Part 7 - This is deep. In a convoluted way.html)\n",
    "\n",
    "</ul>\n",
    "</body>\n",
    "</html>"
   ]
  },
  {
   "cell_type": "code",
   "execution_count": null,
   "metadata": {},
   "outputs": [],
   "source": []
  }
 ],
 "metadata": {
  "kernelspec": {
   "display_name": "Python 3",
   "language": "python",
   "name": "python3"
  },
  "language_info": {
   "codemirror_mode": {
    "name": "ipython",
    "version": 3
   },
   "file_extension": ".py",
   "mimetype": "text/x-python",
   "name": "python",
   "nbconvert_exporter": "python",
   "pygments_lexer": "ipython3",
   "version": "3.6.0"
  }
 },
 "nbformat": 4,
 "nbformat_minor": 2
}
