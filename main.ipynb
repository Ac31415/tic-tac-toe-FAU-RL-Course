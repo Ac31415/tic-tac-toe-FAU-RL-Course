{
 "cells": [
  {
   "cell_type": "heading",
   "metadata": {},
   "level": 1,
   "source": [
    "Basic Tic Tac Toe support classes and game logic"
   ]
  },
  {
   "cell_type": "markdown",
   "metadata": {},
   "source": [
    "The goal of this series is to implement and test a couple of different approaches to teaching a computer how to play Tic Tac Toe. We will create \n",
    "\n",
    "* a player that plays completely randomly, \n",
    "* two players that implement simple forms of the Min-Max algorithm, \n",
    "* a tabular Q-Learning player, \n",
    "* a and use re-inforcement learning to train a Neural Network using Q-learning as well as Policy Gradient.\n",
    "* a and use re-inforcement learning to train a Neural Network using Q-learning as well as Policy Gradient.\n",
    "\n",
    "Let's get started:\n",
    "\n",
    "We import the following classes:\n",
    "\n",
    "Board: Contains all the Tic Tac Toe board state management plus some utility methods\n",
    "GameResult: A game can be either NOT_FINISHED, DRAW, CROSS_WIN, or NAUGT_WIN\n",
    "CROSS, NAUGHT: Will tell our players what side they play\n",
    "\n",
    "We also define a utility method 'print_board' that prints a board state pretty in HTML"
   ]
  },
  {
   "cell_type": "code",
   "execution_count": 1,
   "metadata": {
    "collapsed": false
   },
   "outputs": [],
   "source": [
    "from IPython.display import HTML, display\n",
    "from tic_tac_toe.Board import Board, GameResult, CROSS, NAUGHT\n",
    "\n",
    "\n",
    "def print_board(board):\n",
    "    display(HTML(board.html_str()))"
   ]
  },
  {
   "cell_type": "markdown",
   "metadata": {},
   "source": [
    "With everything set up, we can now create a new board and print it in all its empty glory."
   ]
  },
  {
   "cell_type": "code",
   "execution_count": 2,
   "metadata": {
    "collapsed": false
   },
   "outputs": [
    {
     "data": {
      "text/html": [
       "<table border=\"1\"><tr><td>&ensp;</td><td>&ensp;</td><td>&ensp;</td></tr><tr><td>&ensp;</td><td>&ensp;</td><td>&ensp;</td></tr><tr><td>&ensp;</td><td>&ensp;</td><td>&ensp;</td></tr></table>"
      ],
      "text/plain": [
       "<table border=\"1\"><tr><td>&ensp;</td><td>&ensp;</td><td>&ensp;</td></tr><tr><td>&ensp;</td><td>&ensp;</td><td>&ensp;</td></tr><tr><td>&ensp;</td><td>&ensp;</td><td>&ensp;</td></tr></table>"
      ]
     },
     "execution_count": 0,
     "metadata": {},
     "output_type": "execute_result"
    }
   ],
   "source": [
    "board = Board()\n",
    "print_board(board)"
   ]
  },
  {
   "cell_type": "markdown",
   "metadata": {},
   "source": [
    "Now let's use the methods 'random_empty_spot' and 'move' to find a random empty spot on the board and put a CROSS there. We then print the board to confirm."
   ]
  },
  {
   "cell_type": "code",
   "execution_count": 3,
   "metadata": {},
   "outputs": [
    {
     "data": {
      "text/html": [
       "<table border=\"1\"><tr><td>&ensp;</td><td>&ensp;</td><td>&ensp;</td></tr><tr><td>&ensp;</td><td>&ensp;</td><td>x</td></tr><tr><td>&ensp;</td><td>&ensp;</td><td>&ensp;</td></tr></table>"
      ],
      "text/plain": [
       "<table border=\"1\"><tr><td>&ensp;</td><td>&ensp;</td><td>&ensp;</td></tr><tr><td>&ensp;</td><td>&ensp;</td><td>x</td></tr><tr><td>&ensp;</td><td>&ensp;</td><td>&ensp;</td></tr></table>"
      ]
     },
     "execution_count": 0,
     "metadata": {},
     "output_type": "execute_result"
    }
   ],
   "source": [
    "board.move(board.random_empty_spot(), CROSS)\n",
    "print_board(board)"
   ]
  },
  {
   "cell_type": "markdown",
   "metadata": {},
   "source": [
    "Now let's extend that to play a whole game. \n",
    "\n",
    "We reset the board state and play alternating CROSS and NAUGHT until the game is either won by one side or a draw. We print the board after each move and and the end print out who won."
   ]
  },
  {
   "cell_type": "code",
   "execution_count": 4,
   "metadata": {},
   "outputs": [
    {
     "data": {
      "text/html": [
       "<table border=\"1\"><tr><td>&ensp;</td><td>&ensp;</td><td>&ensp;</td></tr><tr><td>&ensp;</td><td>&ensp;</td><td>&ensp;</td></tr><tr><td>x</td><td>&ensp;</td><td>&ensp;</td></tr></table>"
      ],
      "text/plain": [
       "<table border=\"1\"><tr><td>&ensp;</td><td>&ensp;</td><td>&ensp;</td></tr><tr><td>&ensp;</td><td>&ensp;</td><td>&ensp;</td></tr><tr><td>x</td><td>&ensp;</td><td>&ensp;</td></tr></table>"
      ]
     },
     "execution_count": 0,
     "metadata": {},
     "output_type": "execute_result"
    },
    {
     "data": {
      "text/html": [
       "<table border=\"1\"><tr><td>&ensp;</td><td>&ensp;</td><td>o</td></tr><tr><td>&ensp;</td><td>&ensp;</td><td>&ensp;</td></tr><tr><td>x</td><td>&ensp;</td><td>&ensp;</td></tr></table>"
      ],
      "text/plain": [
       "<table border=\"1\"><tr><td>&ensp;</td><td>&ensp;</td><td>o</td></tr><tr><td>&ensp;</td><td>&ensp;</td><td>&ensp;</td></tr><tr><td>x</td><td>&ensp;</td><td>&ensp;</td></tr></table>"
      ]
     },
     "execution_count": 0,
     "metadata": {},
     "output_type": "execute_result"
    },
    {
     "data": {
      "text/html": [
       "<table border=\"1\"><tr><td>&ensp;</td><td>&ensp;</td><td>o</td></tr><tr><td>&ensp;</td><td>&ensp;</td><td>x</td></tr><tr><td>x</td><td>&ensp;</td><td>&ensp;</td></tr></table>"
      ],
      "text/plain": [
       "<table border=\"1\"><tr><td>&ensp;</td><td>&ensp;</td><td>o</td></tr><tr><td>&ensp;</td><td>&ensp;</td><td>x</td></tr><tr><td>x</td><td>&ensp;</td><td>&ensp;</td></tr></table>"
      ]
     },
     "execution_count": 0,
     "metadata": {},
     "output_type": "execute_result"
    },
    {
     "data": {
      "text/html": [
       "<table border=\"1\"><tr><td>&ensp;</td><td>o</td><td>o</td></tr><tr><td>&ensp;</td><td>&ensp;</td><td>x</td></tr><tr><td>x</td><td>&ensp;</td><td>&ensp;</td></tr></table>"
      ],
      "text/plain": [
       "<table border=\"1\"><tr><td>&ensp;</td><td>o</td><td>o</td></tr><tr><td>&ensp;</td><td>&ensp;</td><td>x</td></tr><tr><td>x</td><td>&ensp;</td><td>&ensp;</td></tr></table>"
      ]
     },
     "execution_count": 0,
     "metadata": {},
     "output_type": "execute_result"
    },
    {
     "data": {
      "text/html": [
       "<table border=\"1\"><tr><td>&ensp;</td><td>o</td><td>o</td></tr><tr><td>x</td><td>&ensp;</td><td>x</td></tr><tr><td>x</td><td>&ensp;</td><td>&ensp;</td></tr></table>"
      ],
      "text/plain": [
       "<table border=\"1\"><tr><td>&ensp;</td><td>o</td><td>o</td></tr><tr><td>x</td><td>&ensp;</td><td>x</td></tr><tr><td>x</td><td>&ensp;</td><td>&ensp;</td></tr></table>"
      ]
     },
     "execution_count": 0,
     "metadata": {},
     "output_type": "execute_result"
    },
    {
     "data": {
      "text/html": [
       "<table border=\"1\"><tr><td>&ensp;</td><td>o</td><td>o</td></tr><tr><td>x</td><td>&ensp;</td><td>x</td></tr><tr><td>x</td><td>&ensp;</td><td>o</td></tr></table>"
      ],
      "text/plain": [
       "<table border=\"1\"><tr><td>&ensp;</td><td>o</td><td>o</td></tr><tr><td>x</td><td>&ensp;</td><td>x</td></tr><tr><td>x</td><td>&ensp;</td><td>o</td></tr></table>"
      ]
     },
     "execution_count": 0,
     "metadata": {},
     "output_type": "execute_result"
    },
    {
     "data": {
      "text/html": [
       "<table border=\"1\"><tr><td>&ensp;</td><td>o</td><td>o</td></tr><tr><td>x</td><td>x</td><td>x</td></tr><tr><td>x</td><td>&ensp;</td><td>o</td></tr></table>"
      ],
      "text/plain": [
       "<table border=\"1\"><tr><td>&ensp;</td><td>o</td><td>o</td></tr><tr><td>x</td><td>x</td><td>x</td></tr><tr><td>x</td><td>&ensp;</td><td>o</td></tr></table>"
      ]
     },
     "execution_count": 0,
     "metadata": {},
     "output_type": "execute_result"
    },
    {
     "name": "stdout",
     "output_type": "stream",
     "text": [
      "Cross won!\n"
     ]
    }
   ],
   "source": [
    "board.reset()\n",
    "finished = False\n",
    "while not finished:\n",
    "   _, result, finished = board.move(board.random_empty_spot(), CROSS)\n",
    "   print_board(board)\n",
    "   if finished:\n",
    "       if result == GameResult.DRAW:\n",
    "           print(\"Game is a draw\")\n",
    "       else:\n",
    "           print(\"Cross won!\")\n",
    "   else:\n",
    "       _, result, finished = board.move(board.random_empty_spot(), NAUGHT)\n",
    "       print_board(board)\n",
    "       if finished:\n",
    "            if result == GameResult.DRAW:\n",
    "               print(\"Game is a draw\")\n",
    "            else:\n",
    "               print(\"Naught won!\")"
   ]
  },
  {
   "cell_type": "markdown",
   "metadata": {},
   "source": [
    "Now let's create a utility function 'play_game' that takes a board and 2 players and plays a complete game. It returns the result of the game at the end.\n",
    "\n",
    "We test the new function by playing a game"
   ]
  },
  {
   "cell_type": "code",
   "execution_count": 5,
   "metadata": {},
   "outputs": [
    {
     "data": {
      "text/html": [
       "<table border=\"1\"><tr><td>o</td><td>o</td><td>x</td></tr><tr><td>x</td><td>x</td><td>o</td></tr><tr><td>o</td><td>x</td><td>x</td></tr></table>"
      ],
      "text/plain": [
       "<table border=\"1\"><tr><td>o</td><td>o</td><td>x</td></tr><tr><td>x</td><td>x</td><td>o</td></tr><tr><td>o</td><td>x</td><td>x</td></tr></table>"
      ]
     },
     "execution_count": 0,
     "metadata": {},
     "output_type": "execute_result"
    },
    {
     "name": "stdout",
     "output_type": "stream",
     "text": [
      "Draw\n"
     ]
    }
   ],
   "source": [
    "from tic_tac_toe.Player import Player\n",
    "\n",
    "\n",
    "def play_game(board: Board, player1: Player, player2: Player):\n",
    "    player1.new_game(CROSS)\n",
    "    player2.new_game(NAUGHT)\n",
    "    board.reset()\n",
    "    \n",
    "    finished = False\n",
    "    while not finished:\n",
    "        result, finished = player1.move(board)\n",
    "        if finished:\n",
    "            if result == GameResult.DRAW:\n",
    "                final_result = GameResult.DRAW\n",
    "            else:\n",
    "                final_result =  GameResult.CROSS_WIN\n",
    "        else:\n",
    "            result, finished = player2.move(board)\n",
    "            if finished:\n",
    "                if result == GameResult.DRAW:\n",
    "                    final_result =  GameResult.DRAW\n",
    "                else:\n",
    "                    final_result =  GameResult.NAUGHT_WIN\n",
    "        \n",
    "    player1.final_result(final_result)\n",
    "    player2.final_result(final_result)\n",
    "    return final_result\n",
    "\n",
    "\n",
    "from tic_tac_toe.RandomPlayer import RandomPlayer\n",
    "\n",
    "\n",
    "result = play_game(board, RandomPlayer(), RandomPlayer())\n",
    "print_board(board)\n",
    "if result == GameResult.CROSS_WIN:\n",
    "    print(\"Cross won\")\n",
    "elif result == GameResult.NAUGHT_WIN:\n",
    "    print(\"Naught won\")\n",
    "else:\n",
    "    print(\"Draw\")"
   ]
  },
  {
   "cell_type": "markdown",
   "metadata": {},
   "source": [
    "Establishing some ground truth.\n",
    "\n",
    "The above now allows us to establish some ground truth: If we let 2 random players play against each other, how many games do we expect to be won by NAUGHT, how many by CROSS, and how many do we expect to end in a draw?\n",
    "\n",
    "Going forward, building more intelligent players, we can then measure how much better they play compared to a random player."
   ]
  },
  {
   "cell_type": "code",
   "execution_count": 17,
   "metadata": {},
   "outputs": [
    {
     "name": "stdout",
     "output_type": "stream",
     "text": [
      "After 100000 game we have draws: 12638, cross wins: 58688, and naught wins: 28674.\nWhich gives percentages of draws : cross : naught of about 12.64% : 58.69% : 28.67%\n"
     ]
    }
   ],
   "source": [
    "num_games = 100000\n",
    "\n",
    "draw_count = 0\n",
    "cross_count = 0\n",
    "naught_count = 0\n",
    "\n",
    "p1 = RandomPlayer()\n",
    "p2 = RandomPlayer()\n",
    "\n",
    "for _ in range(num_games):\n",
    "    result = play_game(board, p1, p2)\n",
    "    if result == GameResult.CROSS_WIN:\n",
    "        cross_count += 1\n",
    "    elif result == GameResult.NAUGHT_WIN:\n",
    "        naught_count += 1\n",
    "    else:\n",
    "        draw_count += 1\n",
    "        \n",
    "print(\"After {} game we have draws: {}, cross wins: {}, and naught wins: {}.\".format(num_games, draw_count, \n",
    "                                                                        cross_count, naught_count))\n",
    "\n",
    "print(\"Which gives percentages of draws : cross : naught of about {:.2%} : {:.2%} : {:.2%}\".format(\n",
    "    draw_count / num_games, cross_count / num_games, naught_count / num_games))"
   ]
  },
  {
   "cell_type": "markdown",
   "metadata": {},
   "source": []
  }
 ],
 "metadata": {
  "kernelspec": {
   "display_name": "Python 2",
   "language": "python",
   "name": "python2"
  },
  "language_info": {
   "codemirror_mode": {
    "name": "ipython",
    "version": 2
   },
   "file_extension": ".py",
   "mimetype": "text/x-python",
   "name": "python",
   "nbconvert_exporter": "python",
   "pygments_lexer": "ipython2",
   "version": "2.7.6"
  }
 },
 "nbformat": 4,
 "nbformat_minor": 0
}
